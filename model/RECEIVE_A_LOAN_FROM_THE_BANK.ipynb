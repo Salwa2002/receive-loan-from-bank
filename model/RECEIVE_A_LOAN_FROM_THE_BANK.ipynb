{
  "cells": [
    {
      "cell_type": "markdown",
      "metadata": {
        "id": "ZAAK-boROHcR"
      },
      "source": [
        "# <center style = 'color : white'> CAN YOU RECEIVE A LOAN FROM THE BANK? </center>"
      ]
    },
    {
      "cell_type": "code",
      "execution_count": 84,
      "metadata": {},
      "outputs": [
        {
          "name": "stdout",
          "output_type": "stream",
          "text": [
            "Requirement already satisfied: seaborn in c:\\users\\info\\appdata\\local\\programs\\python\\python311\\lib\\site-packages (0.13.0)\n",
            "Requirement already satisfied: numpy!=1.24.0,>=1.20 in c:\\users\\info\\appdata\\local\\programs\\python\\python311\\lib\\site-packages (from seaborn) (1.26.1)\n",
            "Requirement already satisfied: pandas>=1.2 in c:\\users\\info\\appdata\\local\\programs\\python\\python311\\lib\\site-packages (from seaborn) (2.1.1)\n",
            "Requirement already satisfied: matplotlib!=3.6.1,>=3.3 in c:\\users\\info\\appdata\\local\\programs\\python\\python311\\lib\\site-packages (from seaborn) (3.8.0)\n",
            "Requirement already satisfied: contourpy>=1.0.1 in c:\\users\\info\\appdata\\local\\programs\\python\\python311\\lib\\site-packages (from matplotlib!=3.6.1,>=3.3->seaborn) (1.1.1)\n",
            "Requirement already satisfied: cycler>=0.10 in c:\\users\\info\\appdata\\local\\programs\\python\\python311\\lib\\site-packages (from matplotlib!=3.6.1,>=3.3->seaborn) (0.12.1)\n",
            "Requirement already satisfied: fonttools>=4.22.0 in c:\\users\\info\\appdata\\local\\programs\\python\\python311\\lib\\site-packages (from matplotlib!=3.6.1,>=3.3->seaborn) (4.43.1)\n",
            "Requirement already satisfied: kiwisolver>=1.0.1 in c:\\users\\info\\appdata\\local\\programs\\python\\python311\\lib\\site-packages (from matplotlib!=3.6.1,>=3.3->seaborn) (1.4.5)\n",
            "Requirement already satisfied: packaging>=20.0 in c:\\users\\info\\appdata\\local\\programs\\python\\python311\\lib\\site-packages (from matplotlib!=3.6.1,>=3.3->seaborn) (23.1)\n",
            "Requirement already satisfied: pillow>=6.2.0 in c:\\users\\info\\appdata\\local\\programs\\python\\python311\\lib\\site-packages (from matplotlib!=3.6.1,>=3.3->seaborn) (10.1.0)\n",
            "Requirement already satisfied: pyparsing>=2.3.1 in c:\\users\\info\\appdata\\local\\programs\\python\\python311\\lib\\site-packages (from matplotlib!=3.6.1,>=3.3->seaborn) (3.1.1)\n",
            "Requirement already satisfied: python-dateutil>=2.7 in c:\\users\\info\\appdata\\local\\programs\\python\\python311\\lib\\site-packages (from matplotlib!=3.6.1,>=3.3->seaborn) (2.8.2)\n",
            "Requirement already satisfied: pytz>=2020.1 in c:\\users\\info\\appdata\\local\\programs\\python\\python311\\lib\\site-packages (from pandas>=1.2->seaborn) (2023.3.post1)\n",
            "Requirement already satisfied: tzdata>=2022.1 in c:\\users\\info\\appdata\\local\\programs\\python\\python311\\lib\\site-packages (from pandas>=1.2->seaborn) (2023.3)\n",
            "Requirement already satisfied: six>=1.5 in c:\\users\\info\\appdata\\local\\programs\\python\\python311\\lib\\site-packages (from python-dateutil>=2.7->matplotlib!=3.6.1,>=3.3->seaborn) (1.16.0)\n",
            "Note: you may need to restart the kernel to use updated packages.\n"
          ]
        },
        {
          "name": "stderr",
          "output_type": "stream",
          "text": [
            "\n",
            "[notice] A new release of pip is available: 23.1.2 -> 23.3.1\n",
            "[notice] To update, run: python.exe -m pip install --upgrade pip\n"
          ]
        },
        {
          "name": "stdout",
          "output_type": "stream",
          "text": [
            "Requirement already satisfied: statsmodels in c:\\users\\info\\appdata\\local\\programs\\python\\python311\\lib\\site-packages (0.14.1)\n",
            "Requirement already satisfied: numpy<2,>=1.18 in c:\\users\\info\\appdata\\local\\programs\\python\\python311\\lib\\site-packages (from statsmodels) (1.26.1)\n",
            "Requirement already satisfied: scipy!=1.9.2,>=1.4 in c:\\users\\info\\appdata\\local\\programs\\python\\python311\\lib\\site-packages (from statsmodels) (1.11.4)\n",
            "Requirement already satisfied: pandas!=2.1.0,>=1.0 in c:\\users\\info\\appdata\\local\\programs\\python\\python311\\lib\\site-packages (from statsmodels) (2.1.1)\n",
            "Requirement already satisfied: patsy>=0.5.4 in c:\\users\\info\\appdata\\local\\programs\\python\\python311\\lib\\site-packages (from statsmodels) (0.5.4)\n",
            "Requirement already satisfied: packaging>=21.3 in c:\\users\\info\\appdata\\local\\programs\\python\\python311\\lib\\site-packages (from statsmodels) (23.1)\n",
            "Requirement already satisfied: python-dateutil>=2.8.2 in c:\\users\\info\\appdata\\local\\programs\\python\\python311\\lib\\site-packages (from pandas!=2.1.0,>=1.0->statsmodels) (2.8.2)\n",
            "Requirement already satisfied: pytz>=2020.1 in c:\\users\\info\\appdata\\local\\programs\\python\\python311\\lib\\site-packages (from pandas!=2.1.0,>=1.0->statsmodels) (2023.3.post1)\n",
            "Requirement already satisfied: tzdata>=2022.1 in c:\\users\\info\\appdata\\local\\programs\\python\\python311\\lib\\site-packages (from pandas!=2.1.0,>=1.0->statsmodels) (2023.3)\n",
            "Requirement already satisfied: six in c:\\users\\info\\appdata\\local\\programs\\python\\python311\\lib\\site-packages (from patsy>=0.5.4->statsmodels) (1.16.0)\n",
            "Note: you may need to restart the kernel to use updated packages.\n"
          ]
        },
        {
          "name": "stderr",
          "output_type": "stream",
          "text": [
            "\n",
            "[notice] A new release of pip is available: 23.1.2 -> 23.3.1\n",
            "[notice] To update, run: python.exe -m pip install --upgrade pip\n"
          ]
        }
      ],
      "source": [
        "%pip install seaborn\n",
        "%pip install statsmodels"
      ]
    },
    {
      "cell_type": "markdown",
      "metadata": {
        "id": "jQMNatYndjFI"
      },
      "source": [
        "# <center>**Data preprocessing**</center>"
      ]
    },
    {
      "cell_type": "code",
      "execution_count": 85,
      "metadata": {
        "colab": {
          "base_uri": "https://localhost:8080/"
        },
        "id": "3WXAQUKsdsGb",
        "outputId": "755548fe-e1b4-4beb-fc2c-2d15092d3d1b"
      },
      "outputs": [
        {
          "data": {
            "text/plain": [
              "'\\n!git clone https://github.com/Salwa2002/receive-loan-from-bank.git\\n\\n%cd receive-loan-from-bank\\n\\n!git checkout salwa-model-setup\\n'"
            ]
          },
          "execution_count": 85,
          "metadata": {},
          "output_type": "execute_result"
        }
      ],
      "source": [
        "\"\"\"\n",
        "!git clone https://github.com/Salwa2002/receive-loan-from-bank.git\n",
        "\n",
        "%cd receive-loan-from-bank\n",
        "\n",
        "!git checkout salwa-model-setup\n",
        "\"\"\""
      ]
    },
    {
      "cell_type": "code",
      "execution_count": 86,
      "metadata": {
        "colab": {
          "base_uri": "https://localhost:8080/"
        },
        "id": "tpdAJFXYfzlp",
        "outputId": "c24e6209-9dbb-4868-b1ca-9f30c0a5de08"
      },
      "outputs": [
        {
          "data": {
            "text/plain": [
              "'\\n!git pull origin salwa-model-setup\\n!git branch\\n'"
            ]
          },
          "execution_count": 86,
          "metadata": {},
          "output_type": "execute_result"
        }
      ],
      "source": [
        "\"\"\"\n",
        "!git pull origin salwa-model-setup\n",
        "!git branch\n",
        "\"\"\""
      ]
    },
    {
      "cell_type": "code",
      "execution_count": 87,
      "metadata": {
        "colab": {
          "base_uri": "https://localhost:8080/",
          "height": 359
        },
        "id": "Gz63_x8ZBsBs",
        "outputId": "8526d31b-c107-4a55-c21f-27477a8a6131"
      },
      "outputs": [
        {
          "data": {
            "text/html": [
              "<div>\n",
              "<style scoped>\n",
              "    .dataframe tbody tr th:only-of-type {\n",
              "        vertical-align: middle;\n",
              "    }\n",
              "\n",
              "    .dataframe tbody tr th {\n",
              "        vertical-align: top;\n",
              "    }\n",
              "\n",
              "    .dataframe thead th {\n",
              "        text-align: right;\n",
              "    }\n",
              "</style>\n",
              "<table border=\"1\" class=\"dataframe\">\n",
              "  <thead>\n",
              "    <tr style=\"text-align: right;\">\n",
              "      <th></th>\n",
              "      <th>status of existing checking account</th>\n",
              "      <th>Duration in months</th>\n",
              "      <th>Credit History</th>\n",
              "      <th>Purpose</th>\n",
              "      <th>Credit Amount</th>\n",
              "      <th>Savings account/bonds</th>\n",
              "      <th>Present employement since</th>\n",
              "      <th>installement rate in percentage of disposable income</th>\n",
              "      <th>Personal status and sex</th>\n",
              "      <th>Other debtors / guarantors</th>\n",
              "      <th>...</th>\n",
              "      <th>Property</th>\n",
              "      <th>Age in years</th>\n",
              "      <th>Other installment plans</th>\n",
              "      <th>Housing</th>\n",
              "      <th>Number of existing credits at this bank</th>\n",
              "      <th>Job</th>\n",
              "      <th>Number of people being liable to provide maintenance for</th>\n",
              "      <th>Telephone</th>\n",
              "      <th>foreign worker</th>\n",
              "      <th>label</th>\n",
              "    </tr>\n",
              "  </thead>\n",
              "  <tbody>\n",
              "    <tr>\n",
              "      <th>0</th>\n",
              "      <td>A11</td>\n",
              "      <td>6</td>\n",
              "      <td>A34</td>\n",
              "      <td>A43</td>\n",
              "      <td>1169</td>\n",
              "      <td>A65</td>\n",
              "      <td>A75</td>\n",
              "      <td>4</td>\n",
              "      <td>A93</td>\n",
              "      <td>A101</td>\n",
              "      <td>...</td>\n",
              "      <td>A121</td>\n",
              "      <td>67</td>\n",
              "      <td>A143</td>\n",
              "      <td>A152</td>\n",
              "      <td>2</td>\n",
              "      <td>A173</td>\n",
              "      <td>1</td>\n",
              "      <td>A192</td>\n",
              "      <td>A201</td>\n",
              "      <td>1</td>\n",
              "    </tr>\n",
              "    <tr>\n",
              "      <th>1</th>\n",
              "      <td>A12</td>\n",
              "      <td>48</td>\n",
              "      <td>A32</td>\n",
              "      <td>A43</td>\n",
              "      <td>5951</td>\n",
              "      <td>A61</td>\n",
              "      <td>A73</td>\n",
              "      <td>2</td>\n",
              "      <td>A92</td>\n",
              "      <td>A101</td>\n",
              "      <td>...</td>\n",
              "      <td>A121</td>\n",
              "      <td>22</td>\n",
              "      <td>A143</td>\n",
              "      <td>A152</td>\n",
              "      <td>1</td>\n",
              "      <td>A173</td>\n",
              "      <td>1</td>\n",
              "      <td>A191</td>\n",
              "      <td>A201</td>\n",
              "      <td>2</td>\n",
              "    </tr>\n",
              "    <tr>\n",
              "      <th>2</th>\n",
              "      <td>A14</td>\n",
              "      <td>12</td>\n",
              "      <td>A34</td>\n",
              "      <td>A46</td>\n",
              "      <td>2096</td>\n",
              "      <td>A61</td>\n",
              "      <td>A74</td>\n",
              "      <td>2</td>\n",
              "      <td>A93</td>\n",
              "      <td>A101</td>\n",
              "      <td>...</td>\n",
              "      <td>A121</td>\n",
              "      <td>49</td>\n",
              "      <td>A143</td>\n",
              "      <td>A152</td>\n",
              "      <td>1</td>\n",
              "      <td>A172</td>\n",
              "      <td>2</td>\n",
              "      <td>A191</td>\n",
              "      <td>A201</td>\n",
              "      <td>1</td>\n",
              "    </tr>\n",
              "    <tr>\n",
              "      <th>3</th>\n",
              "      <td>A11</td>\n",
              "      <td>42</td>\n",
              "      <td>A32</td>\n",
              "      <td>A42</td>\n",
              "      <td>7882</td>\n",
              "      <td>A61</td>\n",
              "      <td>A74</td>\n",
              "      <td>2</td>\n",
              "      <td>A93</td>\n",
              "      <td>A103</td>\n",
              "      <td>...</td>\n",
              "      <td>A122</td>\n",
              "      <td>45</td>\n",
              "      <td>A143</td>\n",
              "      <td>A153</td>\n",
              "      <td>1</td>\n",
              "      <td>A173</td>\n",
              "      <td>2</td>\n",
              "      <td>A191</td>\n",
              "      <td>A201</td>\n",
              "      <td>1</td>\n",
              "    </tr>\n",
              "    <tr>\n",
              "      <th>4</th>\n",
              "      <td>A11</td>\n",
              "      <td>24</td>\n",
              "      <td>A33</td>\n",
              "      <td>A40</td>\n",
              "      <td>4870</td>\n",
              "      <td>A61</td>\n",
              "      <td>A73</td>\n",
              "      <td>3</td>\n",
              "      <td>A93</td>\n",
              "      <td>A101</td>\n",
              "      <td>...</td>\n",
              "      <td>A124</td>\n",
              "      <td>53</td>\n",
              "      <td>A143</td>\n",
              "      <td>A153</td>\n",
              "      <td>2</td>\n",
              "      <td>A173</td>\n",
              "      <td>2</td>\n",
              "      <td>A191</td>\n",
              "      <td>A201</td>\n",
              "      <td>2</td>\n",
              "    </tr>\n",
              "  </tbody>\n",
              "</table>\n",
              "<p>5 rows × 21 columns</p>\n",
              "</div>"
            ],
            "text/plain": [
              "  status of existing checking account  Duration in months Credit History  \\\n",
              "0                                 A11                   6            A34   \n",
              "1                                 A12                  48            A32   \n",
              "2                                 A14                  12            A34   \n",
              "3                                 A11                  42            A32   \n",
              "4                                 A11                  24            A33   \n",
              "\n",
              "  Purpose  Credit Amount Savings account/bonds Present employement since  \\\n",
              "0     A43           1169                   A65                       A75   \n",
              "1     A43           5951                   A61                       A73   \n",
              "2     A46           2096                   A61                       A74   \n",
              "3     A42           7882                   A61                       A74   \n",
              "4     A40           4870                   A61                       A73   \n",
              "\n",
              "   installement rate in percentage of disposable income  \\\n",
              "0                                                  4      \n",
              "1                                                  2      \n",
              "2                                                  2      \n",
              "3                                                  2      \n",
              "4                                                  3      \n",
              "\n",
              "  Personal status and sex Other debtors / guarantors  ...  Property  \\\n",
              "0                     A93                       A101  ...      A121   \n",
              "1                     A92                       A101  ...      A121   \n",
              "2                     A93                       A101  ...      A121   \n",
              "3                     A93                       A103  ...      A122   \n",
              "4                     A93                       A101  ...      A124   \n",
              "\n",
              "  Age in years  Other installment plans Housing  \\\n",
              "0           67                     A143    A152   \n",
              "1           22                     A143    A152   \n",
              "2           49                     A143    A152   \n",
              "3           45                     A143    A153   \n",
              "4           53                     A143    A153   \n",
              "\n",
              "  Number of existing credits at this bank   Job  \\\n",
              "0                                       2  A173   \n",
              "1                                       1  A173   \n",
              "2                                       1  A172   \n",
              "3                                       1  A173   \n",
              "4                                       2  A173   \n",
              "\n",
              "  Number of people being liable to provide maintenance for  Telephone  \\\n",
              "0                                                  1             A192   \n",
              "1                                                  1             A191   \n",
              "2                                                  2             A191   \n",
              "3                                                  2             A191   \n",
              "4                                                  2             A191   \n",
              "\n",
              "  foreign worker label  \n",
              "0           A201     1  \n",
              "1           A201     2  \n",
              "2           A201     1  \n",
              "3           A201     1  \n",
              "4           A201     2  \n",
              "\n",
              "[5 rows x 21 columns]"
            ]
          },
          "execution_count": 87,
          "metadata": {},
          "output_type": "execute_result"
        }
      ],
      "source": [
        "import pandas as pd\n",
        "import numpy as np\n",
        "#read the data file and assign each column its meaning\n",
        "db = pd.read_csv(\"german.csv\", names = ['status of existing checking account','Duration in months','Credit History','Purpose','Credit Amount','Savings account/bonds','Present employement since','installement rate in percentage of disposable income','Personal status and sex','Other debtors / guarantors','present residence since','Property','Age in years','Other installment plans', 'Housing', 'Number of existing credits at this bank', 'Job', 'Number of people being liable to provide maintenance for', 'Telephone', 'foreign worker', 'label'])\n",
        "db.head() #show columns"
      ]
    },
    {
      "cell_type": "code",
      "execution_count": 88,
      "metadata": {
        "colab": {
          "base_uri": "https://localhost:8080/"
        },
        "id": "e1XANflECuVI",
        "outputId": "f784c2cc-9479-43f0-a2d4-2ae4c060c112"
      },
      "outputs": [
        {
          "name": "stdout",
          "output_type": "stream",
          "text": [
            "<class 'pandas.core.frame.DataFrame'>\n",
            "RangeIndex: 1000 entries, 0 to 999\n",
            "Data columns (total 21 columns):\n",
            " #   Column                                                    Non-Null Count  Dtype \n",
            "---  ------                                                    --------------  ----- \n",
            " 0   status of existing checking account                       1000 non-null   object\n",
            " 1   Duration in months                                        1000 non-null   int64 \n",
            " 2   Credit History                                            1000 non-null   object\n",
            " 3   Purpose                                                   1000 non-null   object\n",
            " 4   Credit Amount                                             1000 non-null   int64 \n",
            " 5   Savings account/bonds                                     1000 non-null   object\n",
            " 6   Present employement since                                 1000 non-null   object\n",
            " 7   installement rate in percentage of disposable income      1000 non-null   int64 \n",
            " 8   Personal status and sex                                   1000 non-null   object\n",
            " 9   Other debtors / guarantors                                1000 non-null   object\n",
            " 10  present residence since                                   1000 non-null   int64 \n",
            " 11  Property                                                  1000 non-null   object\n",
            " 12  Age in years                                              1000 non-null   int64 \n",
            " 13  Other installment plans                                   1000 non-null   object\n",
            " 14  Housing                                                   1000 non-null   object\n",
            " 15  Number of existing credits at this bank                   1000 non-null   int64 \n",
            " 16  Job                                                       1000 non-null   object\n",
            " 17  Number of people being liable to provide maintenance for  1000 non-null   int64 \n",
            " 18  Telephone                                                 1000 non-null   object\n",
            " 19  foreign worker                                            1000 non-null   object\n",
            " 20  label                                                     1000 non-null   int64 \n",
            "dtypes: int64(8), object(13)\n",
            "memory usage: 164.2+ KB\n"
          ]
        }
      ],
      "source": [
        "db.info() #Discover the data"
      ]
    },
    {
      "cell_type": "code",
      "execution_count": 89,
      "metadata": {
        "colab": {
          "base_uri": "https://localhost:8080/",
          "height": 335
        },
        "id": "vWEn7cuTDKAG",
        "outputId": "c4f87b3c-ffba-48cf-84cb-27a4f790cdbe"
      },
      "outputs": [
        {
          "data": {
            "text/html": [
              "<div>\n",
              "<style scoped>\n",
              "    .dataframe tbody tr th:only-of-type {\n",
              "        vertical-align: middle;\n",
              "    }\n",
              "\n",
              "    .dataframe tbody tr th {\n",
              "        vertical-align: top;\n",
              "    }\n",
              "\n",
              "    .dataframe thead th {\n",
              "        text-align: right;\n",
              "    }\n",
              "</style>\n",
              "<table border=\"1\" class=\"dataframe\">\n",
              "  <thead>\n",
              "    <tr style=\"text-align: right;\">\n",
              "      <th></th>\n",
              "      <th>Duration in months</th>\n",
              "      <th>Credit Amount</th>\n",
              "      <th>installement rate in percentage of disposable income</th>\n",
              "      <th>present residence since</th>\n",
              "      <th>Age in years</th>\n",
              "      <th>Number of existing credits at this bank</th>\n",
              "      <th>Number of people being liable to provide maintenance for</th>\n",
              "      <th>label</th>\n",
              "    </tr>\n",
              "  </thead>\n",
              "  <tbody>\n",
              "    <tr>\n",
              "      <th>count</th>\n",
              "      <td>1000.000000</td>\n",
              "      <td>1000.000000</td>\n",
              "      <td>1000.000000</td>\n",
              "      <td>1000.000000</td>\n",
              "      <td>1000.000000</td>\n",
              "      <td>1000.000000</td>\n",
              "      <td>1000.000000</td>\n",
              "      <td>1000.000000</td>\n",
              "    </tr>\n",
              "    <tr>\n",
              "      <th>mean</th>\n",
              "      <td>20.903000</td>\n",
              "      <td>3271.258000</td>\n",
              "      <td>2.973000</td>\n",
              "      <td>2.845000</td>\n",
              "      <td>35.546000</td>\n",
              "      <td>1.407000</td>\n",
              "      <td>1.155000</td>\n",
              "      <td>1.300000</td>\n",
              "    </tr>\n",
              "    <tr>\n",
              "      <th>std</th>\n",
              "      <td>12.058814</td>\n",
              "      <td>2822.736876</td>\n",
              "      <td>1.118715</td>\n",
              "      <td>1.103718</td>\n",
              "      <td>11.375469</td>\n",
              "      <td>0.577654</td>\n",
              "      <td>0.362086</td>\n",
              "      <td>0.458487</td>\n",
              "    </tr>\n",
              "    <tr>\n",
              "      <th>min</th>\n",
              "      <td>4.000000</td>\n",
              "      <td>250.000000</td>\n",
              "      <td>1.000000</td>\n",
              "      <td>1.000000</td>\n",
              "      <td>19.000000</td>\n",
              "      <td>1.000000</td>\n",
              "      <td>1.000000</td>\n",
              "      <td>1.000000</td>\n",
              "    </tr>\n",
              "    <tr>\n",
              "      <th>25%</th>\n",
              "      <td>12.000000</td>\n",
              "      <td>1365.500000</td>\n",
              "      <td>2.000000</td>\n",
              "      <td>2.000000</td>\n",
              "      <td>27.000000</td>\n",
              "      <td>1.000000</td>\n",
              "      <td>1.000000</td>\n",
              "      <td>1.000000</td>\n",
              "    </tr>\n",
              "    <tr>\n",
              "      <th>50%</th>\n",
              "      <td>18.000000</td>\n",
              "      <td>2319.500000</td>\n",
              "      <td>3.000000</td>\n",
              "      <td>3.000000</td>\n",
              "      <td>33.000000</td>\n",
              "      <td>1.000000</td>\n",
              "      <td>1.000000</td>\n",
              "      <td>1.000000</td>\n",
              "    </tr>\n",
              "    <tr>\n",
              "      <th>75%</th>\n",
              "      <td>24.000000</td>\n",
              "      <td>3972.250000</td>\n",
              "      <td>4.000000</td>\n",
              "      <td>4.000000</td>\n",
              "      <td>42.000000</td>\n",
              "      <td>2.000000</td>\n",
              "      <td>1.000000</td>\n",
              "      <td>2.000000</td>\n",
              "    </tr>\n",
              "    <tr>\n",
              "      <th>max</th>\n",
              "      <td>72.000000</td>\n",
              "      <td>18424.000000</td>\n",
              "      <td>4.000000</td>\n",
              "      <td>4.000000</td>\n",
              "      <td>75.000000</td>\n",
              "      <td>4.000000</td>\n",
              "      <td>2.000000</td>\n",
              "      <td>2.000000</td>\n",
              "    </tr>\n",
              "  </tbody>\n",
              "</table>\n",
              "</div>"
            ],
            "text/plain": [
              "       Duration in months  Credit Amount  \\\n",
              "count         1000.000000    1000.000000   \n",
              "mean            20.903000    3271.258000   \n",
              "std             12.058814    2822.736876   \n",
              "min              4.000000     250.000000   \n",
              "25%             12.000000    1365.500000   \n",
              "50%             18.000000    2319.500000   \n",
              "75%             24.000000    3972.250000   \n",
              "max             72.000000   18424.000000   \n",
              "\n",
              "       installement rate in percentage of disposable income  \\\n",
              "count                                        1000.000000      \n",
              "mean                                            2.973000      \n",
              "std                                             1.118715      \n",
              "min                                             1.000000      \n",
              "25%                                             2.000000      \n",
              "50%                                             3.000000      \n",
              "75%                                             4.000000      \n",
              "max                                             4.000000      \n",
              "\n",
              "       present residence since  Age in years  \\\n",
              "count              1000.000000   1000.000000   \n",
              "mean                  2.845000     35.546000   \n",
              "std                   1.103718     11.375469   \n",
              "min                   1.000000     19.000000   \n",
              "25%                   2.000000     27.000000   \n",
              "50%                   3.000000     33.000000   \n",
              "75%                   4.000000     42.000000   \n",
              "max                   4.000000     75.000000   \n",
              "\n",
              "       Number of existing credits at this bank  \\\n",
              "count                              1000.000000   \n",
              "mean                                  1.407000   \n",
              "std                                   0.577654   \n",
              "min                                   1.000000   \n",
              "25%                                   1.000000   \n",
              "50%                                   1.000000   \n",
              "75%                                   2.000000   \n",
              "max                                   4.000000   \n",
              "\n",
              "       Number of people being liable to provide maintenance for        label  \n",
              "count                                        1000.000000         1000.000000  \n",
              "mean                                            1.155000            1.300000  \n",
              "std                                             0.362086            0.458487  \n",
              "min                                             1.000000            1.000000  \n",
              "25%                                             1.000000            1.000000  \n",
              "50%                                             1.000000            1.000000  \n",
              "75%                                             1.000000            2.000000  \n",
              "max                                             2.000000            2.000000  "
            ]
          },
          "execution_count": 89,
          "metadata": {},
          "output_type": "execute_result"
        }
      ],
      "source": [
        "db.describe() #Statistical representation of data"
      ]
    },
    {
      "cell_type": "code",
      "execution_count": 90,
      "metadata": {
        "colab": {
          "base_uri": "https://localhost:8080/"
        },
        "id": "atKOLVj-ERt2",
        "outputId": "a16ca680-27d1-42c6-99f0-f83621094fcc"
      },
      "outputs": [
        {
          "data": {
            "text/plain": [
              "status of existing checking account                         0\n",
              "Duration in months                                          0\n",
              "Credit History                                              0\n",
              "Purpose                                                     0\n",
              "Credit Amount                                               0\n",
              "Savings account/bonds                                       0\n",
              "Present employement since                                   0\n",
              "installement rate in percentage of disposable income        0\n",
              "Personal status and sex                                     0\n",
              "Other debtors / guarantors                                  0\n",
              "present residence since                                     0\n",
              "Property                                                    0\n",
              "Age in years                                                0\n",
              "Other installment plans                                     0\n",
              "Housing                                                     0\n",
              "Number of existing credits at this bank                     0\n",
              "Job                                                         0\n",
              "Number of people being liable to provide maintenance for    0\n",
              "Telephone                                                   0\n",
              "foreign worker                                              0\n",
              "label                                                       0\n",
              "dtype: int64"
            ]
          },
          "execution_count": 90,
          "metadata": {},
          "output_type": "execute_result"
        }
      ],
      "source": [
        "db.isnull().sum()  # check for incomplete data"
      ]
    },
    {
      "cell_type": "code",
      "execution_count": 91,
      "metadata": {
        "colab": {
          "base_uri": "https://localhost:8080/"
        },
        "id": "4hHLPAGCGbsh",
        "outputId": "47a6b64d-56fc-4956-d161-bb50c54ddd0a"
      },
      "outputs": [
        {
          "data": {
            "text/plain": [
              "0"
            ]
          },
          "execution_count": 91,
          "metadata": {},
          "output_type": "execute_result"
        }
      ],
      "source": [
        "db.duplicated().sum() #check for duplicate data"
      ]
    },
    {
      "cell_type": "markdown",
      "metadata": {
        "id": "IqJyANFgKxrb"
      },
      "source": [
        "## <center> **Categorical Data Encoding** </center>"
      ]
    },
    {
      "cell_type": "code",
      "execution_count": 92,
      "metadata": {
        "id": "dNTHDjxM_5fv"
      },
      "outputs": [],
      "source": [
        "#Since there are some columns that represent qualitative values, we will encode these values so that the model can manipulate them\n",
        "\n",
        "#P.S.: We could have used pre-defined methods like One-Hot encoding in scikit-learn, but we decided to do it manually\n",
        "\n",
        "\n",
        "#encoding manually all categorical features :\n",
        "\n",
        "db['Personal status and sex'] = db['Personal status and sex'].replace(['A93', 'A92', 'A91', 'A94'], [0, 1, 2, 3])\n",
        "db['foreign worker'] = db['foreign worker'].replace(['A201', 'A202'], [1, 0])\n",
        "db['Savings account/bonds'] = db['Savings account/bonds'].replace(['A61', 'A62', 'A63', 'A64', 'A65'], [1, 2, 3, 4, 0])\n",
        "db['status of existing checking account'] = db['status of existing checking account'].replace(['A11', 'A12', 'A13', 'A14'], [1, 2, 3, 4])\n",
        "db['Credit History'] = db['Credit History'].replace(['A30', 'A31', 'A32', 'A33', 'A34'], [0, 1, 2, 3, 4])\n",
        "db['Purpose'] = db['Purpose'].replace(['A40', 'A41', 'A42', 'A43', 'A44', 'A45', 'A46', 'A48', 'A49', 'A410'], [1, 2, 3, 4, 5, 6, 7, 8, 9, 10])\n",
        "db['Present employement since'] = db['Present employement since'].replace(['A71', 'A72', 'A73', 'A74', 'A75'], [0, 1, 2, 3, 4])\n",
        "db['Other debtors / guarantors'] = db['Other debtors / guarantors'].replace(['A101', 'A102', 'A103'], [0, 1, 2])\n",
        "db['Property'] = db['Property'].replace(['A121', 'A122', 'A123', 'A124'], [0, 1, 2, 3])\n",
        "db['Other installment plans'] = db['Other installment plans'].replace(['A141', 'A142', 'A143'], [0, 1, 2])\n",
        "db['Housing'] = db['Housing'].replace(['A151', 'A152', 'A153'], [0, 1, 2])\n",
        "db['Job'] = db['Job'].replace(['A171', 'A172', 'A173', 'A174'], [0, 1, 2, 3])\n",
        "db['Telephone'] = db['Telephone'].replace(['A191', 'A192'], [0, 1])"
      ]
    },
    {
      "cell_type": "code",
      "execution_count": 93,
      "metadata": {
        "colab": {
          "base_uri": "https://localhost:8080/"
        },
        "id": "P8JRcf4g199F",
        "outputId": "45562932-b8f9-4383-a8a0-460ae203d5c8"
      },
      "outputs": [
        {
          "data": {
            "text/plain": [
              "(1000, 20)"
            ]
          },
          "execution_count": 93,
          "metadata": {},
          "output_type": "execute_result"
        }
      ],
      "source": [
        "x_raw = db[['status of existing checking account','Duration in months','Credit History','Purpose','Credit Amount','Savings account/bonds','Present employement since','installement rate in percentage of disposable income','Personal status and sex','Other debtors / guarantors','present residence since','Property','Age in years','Other installment plans', 'Housing', 'Number of existing credits at this bank', 'Job', 'Number of people being liable to provide maintenance for', 'Telephone', 'foreign worker']]\n",
        "x_raw.shape"
      ]
    },
    {
      "cell_type": "markdown",
      "metadata": {
        "id": "4PHMApuvdE4y"
      },
      "source": [
        "## <center>**Data visualization : Imbalanced Data**</center>"
      ]
    },
    {
      "cell_type": "code",
      "execution_count": 94,
      "metadata": {
        "id": "MPgbTJSsb3fK"
      },
      "outputs": [],
      "source": [
        "import seaborn as sns\n",
        "sns.set(style=\"ticks\", color_codes=True)\n",
        "import matplotlib.pyplot as plt"
      ]
    },
    {
      "cell_type": "code",
      "execution_count": 95,
      "metadata": {
        "colab": {
          "base_uri": "https://localhost:8080/",
          "height": 247
        },
        "id": "zUd4veMuyine",
        "outputId": "92da7fb6-f1ed-4378-eb1e-4f66015f9987"
      },
      "outputs": [
        {
          "name": "stderr",
          "output_type": "stream",
          "text": [
            "c:\\Users\\info\\AppData\\Local\\Programs\\Python\\Python311\\Lib\\site-packages\\seaborn\\axisgrid.py:718: UserWarning: Using the countplot function without specifying `order` is likely to produce an incorrect plot.\n",
            "  warnings.warn(warning)\n"
          ]
        },
        {
          "data": {
            "text/plain": [
              "<seaborn.axisgrid.FacetGrid at 0x1f01103e950>"
            ]
          },
          "execution_count": 95,
          "metadata": {},
          "output_type": "execute_result"
        },
        {
          "data": {
            "image/png": "[encoded data removed]",
            "text/plain": [
              "<Figure size 4000x500 with 2 Axes>"
            ]
          },
          "metadata": {},
          "output_type": "display_data"
        }
      ],
      "source": [
        "graph = sns.FacetGrid(db, col = 'label', aspect=4, height=5)\n",
        "graph.map(sns.countplot, 'Age in years')"
      ]
    },
    {
      "cell_type": "code",
      "execution_count": 96,
      "metadata": {
        "colab": {
          "base_uri": "https://localhost:8080/",
          "height": 510
        },
        "id": "GjAIYBi61USH",
        "outputId": "35a1ad33-87b6-41f7-8af1-5dcff7710df6"
      },
      "outputs": [
        {
          "name": "stderr",
          "output_type": "stream",
          "text": [
            "c:\\Users\\info\\AppData\\Local\\Programs\\Python\\Python311\\Lib\\site-packages\\seaborn\\axisgrid.py:718: UserWarning: Using the countplot function without specifying `order` is likely to produce an incorrect plot.\n",
            "  warnings.warn(warning)\n"
          ]
        },
        {
          "data": {
            "text/plain": [
              "<seaborn.axisgrid.FacetGrid at 0x1f0107c7790>"
            ]
          },
          "execution_count": 96,
          "metadata": {},
          "output_type": "execute_result"
        },
        {
          "data": {
            "image/png": "[encoded data removed]",
            "text/plain": [
              "<Figure size 1500x500 with 2 Axes>"
            ]
          },
          "metadata": {},
          "output_type": "display_data"
        }
      ],
      "source": [
        "graph = sns.FacetGrid(db, col = 'label', aspect=1.5, height=5)\n",
        "graph.map(sns.countplot, 'Personal status and sex', color = 'red')\n"
      ]
    },
    {
      "cell_type": "code",
      "execution_count": 97,
      "metadata": {
        "colab": {
          "base_uri": "https://localhost:8080/",
          "height": 476
        },
        "id": "yaOtbRoAfn4b",
        "outputId": "876b43bc-9c80-46a8-8678-e7a259593bf7"
      },
      "outputs": [
        {
          "data": {
            "text/plain": [
              "<Axes: xlabel='Personal status and sex', ylabel='count'>"
            ]
          },
          "execution_count": 97,
          "metadata": {},
          "output_type": "execute_result"
        },
        {
          "data": {
            "image/png": "[encoded data removed]",
            "text/plain": [
              "<Figure size 640x480 with 1 Axes>"
            ]
          },
          "metadata": {},
          "output_type": "display_data"
        }
      ],
      "source": [
        "sns.countplot(x = 'Personal status and sex', data = db)"
      ]
    },
    {
      "cell_type": "code",
      "execution_count": 98,
      "metadata": {
        "colab": {
          "base_uri": "https://localhost:8080/",
          "height": 476
        },
        "id": "1uOqrC2mgX0e",
        "outputId": "a9fa948b-7853-400c-e461-f8ee66f7768e"
      },
      "outputs": [
        {
          "data": {
            "text/plain": [
              "<Axes: xlabel='label', ylabel='count'>"
            ]
          },
          "execution_count": 98,
          "metadata": {},
          "output_type": "execute_result"
        },
        {
          "data": {
            "image/png": "[encoded data removed]",
            "text/plain": [
              "<Figure size 640x480 with 1 Axes>"
            ]
          },
          "metadata": {},
          "output_type": "display_data"
        }
      ],
      "source": [
        "sns.countplot(x = 'label', data = db)"
      ]
    },
    {
      "cell_type": "code",
      "execution_count": 99,
      "metadata": {
        "colab": {
          "base_uri": "https://localhost:8080/"
        },
        "id": "VcYvlcRb1oJ0",
        "outputId": "d7b8666c-405a-43a4-ae39-adb6e312c63b"
      },
      "outputs": [
        {
          "name": "stdout",
          "output_type": "stream",
          "text": [
            "Optimization terminated successfully.\n",
            "         Current function value: 0.486410\n",
            "         Iterations 6\n",
            "                           Logit Regression Results                           \n",
            "==============================================================================\n",
            "Dep. Variable:                      y   No. Observations:                 1000\n",
            "Model:                          Logit   Df Residuals:                      980\n",
            "Method:                           MLE   Df Model:                           19\n",
            "Date:                Sat, 16 Dec 2023   Pseudo R-squ.:                  0.2037\n",
            "Time:                        00:29:32   Log-Likelihood:                -486.41\n",
            "converged:                       True   LL-Null:                       -610.86\n",
            "Covariance Type:            nonrobust   LLR p-value:                 5.147e-42\n",
            "============================================================================================================================\n",
            "                                                               coef    std err          z      P>|z|      [0.025      0.975]\n",
            "----------------------------------------------------------------------------------------------------------------------------\n",
            "status of existing checking account                         -0.6423      0.069     -9.362      0.000      -0.777      -0.508\n",
            "Duration in months                                           0.0229      0.009      2.668      0.008       0.006       0.040\n",
            "Credit History                                              -0.3877      0.086     -4.523      0.000      -0.556      -0.220\n",
            "Purpose                                                     -0.0359      0.033     -1.099      0.272      -0.100       0.028\n",
            "Credit Amount                                             8.743e-05   3.92e-05      2.231      0.026    1.06e-05       0.000\n",
            "Savings account/bonds                                       -0.0274      0.088     -0.310      0.757      -0.200       0.146\n",
            "Present employement since                                   -0.1750      0.070     -2.493      0.013      -0.313      -0.037\n",
            "installement rate in percentage of disposable income         0.2621      0.079      3.312      0.001       0.107       0.417\n",
            "Personal status and sex                                      0.1494      0.086      1.728      0.084      -0.020       0.319\n",
            "Other debtors / guarantors                                  -0.3243      0.173     -1.880      0.060      -0.662       0.014\n",
            "present residence since                                     -0.0064      0.076     -0.084      0.933      -0.154       0.142\n",
            "Property                                                     0.2077      0.090      2.298      0.022       0.031       0.385\n",
            "Age in years                                                -0.0092      0.008     -1.154      0.249      -0.025       0.006\n",
            "Other installment plans                                     -0.3136      0.106     -2.970      0.003      -0.521      -0.107\n",
            "Housing                                                     -0.2717      0.163     -1.662      0.097      -0.592       0.049\n",
            "Number of existing credits at this bank                      0.2825      0.158      1.784      0.074      -0.028       0.593\n",
            "Job                                                         -0.0060      0.131     -0.046      0.963      -0.263       0.251\n",
            "Number of people being liable to provide maintenance for     0.0970      0.218      0.445      0.656      -0.331       0.525\n",
            "Telephone                                                   -0.3474      0.183     -1.898      0.058      -0.706       0.011\n",
            "foreign worker                                               1.0237      0.439      2.331      0.020       0.163       1.885\n",
            "============================================================================================================================\n"
          ]
        }
      ],
      "source": [
        "################# LogisticRegression with raw data with all features included ####################################\n",
        "import statsmodels.api as sm\n",
        "y = db['label']\n",
        "y_bin = np.where(y == 2, 1, 0)\n",
        "logit_model=sm.Logit(y_bin,x_raw)\n",
        "result=logit_model.fit()\n",
        "print(result.summary())"
      ]
    },
    {
      "cell_type": "markdown",
      "metadata": {
        "id": "18Jgzlu9AP8e"
      },
      "source": [
        "#We will minimize the number of features by selecting only significant features based on their associated coefficients in the Logisic Regression Model\n"
      ]
    },
    {
      "cell_type": "code",
      "execution_count": 100,
      "metadata": {
        "colab": {
          "base_uri": "https://localhost:8080/"
        },
        "id": "6khbYZzHYPxN",
        "outputId": "c9579296-7256-4872-e087-0c932585d052"
      },
      "outputs": [
        {
          "name": "stdout",
          "output_type": "stream",
          "text": [
            "status of existing checking account: -0.6423465562306442\n",
            "Credit History: -0.38769154271372863\n",
            "Present employement since: -0.17497780913006095\n",
            "installement rate in percentage of disposable income: 0.26206079046885894\n",
            "Personal status and sex: 0.14936867736147239\n",
            "Other debtors / guarantors: -0.3242710987796619\n",
            "Property: 0.20770165082447267\n",
            "Other installment plans: -0.31358685264745073\n",
            "Housing: -0.27173032061313307\n",
            "Number of existing credits at this bank: 0.2825353320288004\n",
            "Telephone: -0.34742653833492576\n",
            "foreign worker: 1.0236645542602927\n"
          ]
        }
      ],
      "source": [
        "# print feature's name is its associated coefficient is larger than 0.1\n",
        "\n",
        "features = x_raw.columns\n",
        "coefficients = result.params\n",
        "\n",
        "for feature, coef in zip(features, coefficients):\n",
        "    if abs(coef) >= 0.1:\n",
        "        print(feature + \": \" + str(coef))"
      ]
    },
    {
      "cell_type": "code",
      "execution_count": 101,
      "metadata": {
        "colab": {
          "base_uri": "https://localhost:8080/",
          "height": 258
        },
        "id": "LPyHJMj_zOJ_",
        "outputId": "5fe41134-2566-4704-9395-6ee6f6d31f64"
      },
      "outputs": [
        {
          "data": {
            "text/html": [
              "<div>\n",
              "<style scoped>\n",
              "    .dataframe tbody tr th:only-of-type {\n",
              "        vertical-align: middle;\n",
              "    }\n",
              "\n",
              "    .dataframe tbody tr th {\n",
              "        vertical-align: top;\n",
              "    }\n",
              "\n",
              "    .dataframe thead th {\n",
              "        text-align: right;\n",
              "    }\n",
              "</style>\n",
              "<table border=\"1\" class=\"dataframe\">\n",
              "  <thead>\n",
              "    <tr style=\"text-align: right;\">\n",
              "      <th></th>\n",
              "      <th>status of existing checking account</th>\n",
              "      <th>Credit History</th>\n",
              "      <th>Present employement since</th>\n",
              "      <th>installement rate in percentage of disposable income</th>\n",
              "      <th>Personal status and sex</th>\n",
              "      <th>Other debtors / guarantors</th>\n",
              "      <th>Property</th>\n",
              "      <th>Other installment plans</th>\n",
              "      <th>Housing</th>\n",
              "      <th>Number of existing credits at this bank</th>\n",
              "      <th>Telephone</th>\n",
              "      <th>foreign worker</th>\n",
              "    </tr>\n",
              "  </thead>\n",
              "  <tbody>\n",
              "    <tr>\n",
              "      <th>0</th>\n",
              "      <td>1</td>\n",
              "      <td>4</td>\n",
              "      <td>4</td>\n",
              "      <td>4</td>\n",
              "      <td>0</td>\n",
              "      <td>0</td>\n",
              "      <td>0</td>\n",
              "      <td>2</td>\n",
              "      <td>1</td>\n",
              "      <td>2</td>\n",
              "      <td>1</td>\n",
              "      <td>1</td>\n",
              "    </tr>\n",
              "    <tr>\n",
              "      <th>1</th>\n",
              "      <td>2</td>\n",
              "      <td>2</td>\n",
              "      <td>2</td>\n",
              "      <td>2</td>\n",
              "      <td>1</td>\n",
              "      <td>0</td>\n",
              "      <td>0</td>\n",
              "      <td>2</td>\n",
              "      <td>1</td>\n",
              "      <td>1</td>\n",
              "      <td>0</td>\n",
              "      <td>1</td>\n",
              "    </tr>\n",
              "    <tr>\n",
              "      <th>2</th>\n",
              "      <td>4</td>\n",
              "      <td>4</td>\n",
              "      <td>3</td>\n",
              "      <td>2</td>\n",
              "      <td>0</td>\n",
              "      <td>0</td>\n",
              "      <td>0</td>\n",
              "      <td>2</td>\n",
              "      <td>1</td>\n",
              "      <td>1</td>\n",
              "      <td>0</td>\n",
              "      <td>1</td>\n",
              "    </tr>\n",
              "    <tr>\n",
              "      <th>3</th>\n",
              "      <td>1</td>\n",
              "      <td>2</td>\n",
              "      <td>3</td>\n",
              "      <td>2</td>\n",
              "      <td>0</td>\n",
              "      <td>2</td>\n",
              "      <td>1</td>\n",
              "      <td>2</td>\n",
              "      <td>2</td>\n",
              "      <td>1</td>\n",
              "      <td>0</td>\n",
              "      <td>1</td>\n",
              "    </tr>\n",
              "    <tr>\n",
              "      <th>4</th>\n",
              "      <td>1</td>\n",
              "      <td>3</td>\n",
              "      <td>2</td>\n",
              "      <td>3</td>\n",
              "      <td>0</td>\n",
              "      <td>0</td>\n",
              "      <td>3</td>\n",
              "      <td>2</td>\n",
              "      <td>2</td>\n",
              "      <td>2</td>\n",
              "      <td>0</td>\n",
              "      <td>1</td>\n",
              "    </tr>\n",
              "  </tbody>\n",
              "</table>\n",
              "</div>"
            ],
            "text/plain": [
              "   status of existing checking account  Credit History  \\\n",
              "0                                    1               4   \n",
              "1                                    2               2   \n",
              "2                                    4               4   \n",
              "3                                    1               2   \n",
              "4                                    1               3   \n",
              "\n",
              "   Present employement since  \\\n",
              "0                          4   \n",
              "1                          2   \n",
              "2                          3   \n",
              "3                          3   \n",
              "4                          2   \n",
              "\n",
              "   installement rate in percentage of disposable income  \\\n",
              "0                                                  4      \n",
              "1                                                  2      \n",
              "2                                                  2      \n",
              "3                                                  2      \n",
              "4                                                  3      \n",
              "\n",
              "   Personal status and sex  Other debtors / guarantors  Property  \\\n",
              "0                        0                           0         0   \n",
              "1                        1                           0         0   \n",
              "2                        0                           0         0   \n",
              "3                        0                           2         1   \n",
              "4                        0                           0         3   \n",
              "\n",
              "   Other installment plans  Housing  Number of existing credits at this bank  \\\n",
              "0                        2        1                                        2   \n",
              "1                        2        1                                        1   \n",
              "2                        2        1                                        1   \n",
              "3                        2        2                                        1   \n",
              "4                        2        2                                        2   \n",
              "\n",
              "   Telephone  foreign worker  \n",
              "0          1               1  \n",
              "1          0               1  \n",
              "2          0               1  \n",
              "3          0               1  \n",
              "4          0               1  "
            ]
          },
          "execution_count": 101,
          "metadata": {},
          "output_type": "execute_result"
        }
      ],
      "source": [
        "#selecting only the significant features shown in the output above (feature engineering : fe)\n",
        "\n",
        "x_fe = db[['status of existing checking account', 'Credit History', 'Present employement since', 'installement rate in percentage of disposable income', 'Personal status and sex', 'Other debtors / guarantors', 'Property', 'Other installment plans', 'Housing', 'Number of existing credits at this bank', 'Telephone','foreign worker']]\n",
        "\n",
        "\n",
        "y = db['label']\n",
        "\n",
        "#We show the modified data\n",
        "x_fe.head()"
      ]
    },
    {
      "cell_type": "markdown",
      "metadata": {
        "id": "Q3iXeXgBOHex"
      },
      "source": [
        "# <center>**Machine learning models : Imbalanced Data**</center>\n",
        "\n",
        "\n",
        "\n"
      ]
    },
    {
      "cell_type": "markdown",
      "metadata": {
        "id": "qpYcypTYhZD2"
      },
      "source": [
        "# Construction of three ML models"
      ]
    },
    {
      "cell_type": "code",
      "execution_count": 102,
      "metadata": {
        "id": "lndevkHCSaTC"
      },
      "outputs": [],
      "source": [
        "from sklearn.linear_model import LogisticRegression #importation du modèle de la regression logistique\n",
        "from sklearn.naive_bayes import GaussianNB\n",
        "from sklearn.svm import SVC\n",
        "from sklearn.model_selection import train_test_split\n",
        "from sklearn.preprocessing import MinMaxScaler"
      ]
    },
    {
      "cell_type": "code",
      "execution_count": 103,
      "metadata": {
        "id": "MsBjxjgiJ437"
      },
      "outputs": [],
      "source": [
        "# We scale the values of the dataset to the intervalle [0,1]\n",
        "# To achieve this we proceed by subtracting the minimum value of each feature and then dividing by the range\n",
        "\n",
        "scaler = MinMaxScaler()\n",
        "scaler.fit(x_raw)\n",
        "x_raw_scaled = scaler.transform(x_raw)\n"
      ]
    },
    {
      "cell_type": "code",
      "execution_count": 104,
      "metadata": {
        "colab": {
          "base_uri": "https://localhost:8080/"
        },
        "id": "nVwDt_GQQ0Mp",
        "outputId": "d930d30c-43dd-4ea5-c642-b10050f7c199"
      },
      "outputs": [
        {
          "name": "stdout",
          "output_type": "stream",
          "text": [
            "(800, 20)\n",
            "(200, 20)\n",
            "(800,)\n",
            "(200,)\n"
          ]
        }
      ],
      "source": [
        "# We split the data into train and test\n",
        "x_train, x_test, y_train, y_test = train_test_split(x_raw_scaled, y, train_size = 0.8, random_state = 50)\n",
        "\n",
        "# Let's verify the shape of our train and test matrices\n",
        "print(x_train.shape)\n",
        "print(x_test.shape)\n",
        "print(y_train.shape)\n",
        "print(y_test.shape)"
      ]
    },
    {
      "cell_type": "markdown",
      "metadata": {
        "id": "Y1TGt9m9lsdA"
      },
      "source": [
        "## 1st Three Models : LogisticReg + GaussianNBS + **SVC (Kernel : 'rbf')**"
      ]
    },
    {
      "cell_type": "code",
      "execution_count": 105,
      "metadata": {
        "id": "prKu0UOuUVKX"
      },
      "outputs": [],
      "source": [
        "\n",
        "Three_Models_I = {\n",
        "    'LogisticRegression' : LogisticRegression(random_state = 25),\n",
        "    'GaussianNBS' : GaussianNB(),\n",
        "    'SVC' : SVC(kernel='rbf', probability=False)\n",
        "}\n"
      ]
    },
    {
      "cell_type": "markdown",
      "metadata": {
        "id": "WpQgeyxbgwk-"
      },
      "source": [
        "## Three Models : LogisticReg + GaussianNBS + **SVC (Kernel : 'poly')**"
      ]
    },
    {
      "cell_type": "code",
      "execution_count": 106,
      "metadata": {
        "id": "CQxTU9mwegs2"
      },
      "outputs": [],
      "source": [
        "\n",
        "# We define the same 3 models, but this time SVC with kernel = poly\n",
        "\n",
        "Three_Models_II = {\n",
        "    'LogisticRegression' : LogisticRegression(random_state = 25),\n",
        "    'GaussianNBS' : GaussianNB(),\n",
        "    'SVC' : SVC(kernel='poly', probability=False)\n",
        "}"
      ]
    },
    {
      "cell_type": "markdown",
      "metadata": {
        "id": "vJwM4_csaRSi"
      },
      "source": [
        "## 3rd three Models : LogisticReg + GaussianNBS + **SVC (3rd Kernel 'precomputed')** (failed)"
      ]
    },
    {
      "cell_type": "code",
      "execution_count": 107,
      "metadata": {
        "id": "ka39lwBoSa25"
      },
      "outputs": [],
      "source": [
        "# We define the same 3 models, but this time SVC with kernel = precomputed\n",
        "Three_Models_III  = {\n",
        "    'LogisticRegression' : LogisticRegression(random_state = 25),\n",
        "    'GaussianNBS' : GaussianNB(),\n",
        "    'SVC' : SVC(kernel='precomputed', probability=False)\n",
        "}"
      ]
    },
    {
      "cell_type": "markdown",
      "metadata": {
        "id": "HCsD7H6D_oEx"
      },
      "source": [
        "#Training & evaluation of the three Models"
      ]
    },
    {
      "cell_type": "code",
      "execution_count": 108,
      "metadata": {
        "id": "GOZMOZ_4ZC-g"
      },
      "outputs": [],
      "source": [
        "from sklearn.metrics import precision_score, recall_score , accuracy_score, confusion_matrix\n",
        "\n",
        "def metrics(y_true, y_predict, retur = False):\n",
        "    pre = precision_score(y_true, y_predict, average = 'macro')\n",
        "    rec = recall_score(y_true, y_predict, average = 'macro')\n",
        "    accuracy = accuracy_score(y_true, y_predict)\n",
        "    if retur :\n",
        "      return pre, rec, accuracy_score\n",
        "    else:\n",
        "      print('precision : ', pre)\n",
        "      print('recall : ', rec)\n",
        "      print('accuracy : ', accuracy)"
      ]
    },
    {
      "cell_type": "code",
      "execution_count": 109,
      "metadata": {
        "id": "v9vCqlO7y1wD"
      },
      "outputs": [],
      "source": [
        "import joblib\n",
        "\n",
        "def train_and_evaluate(models, x, y):\n",
        "    for name, model in models.items():\n",
        "        print(name, ':')\n",
        "        model.fit(x, y)\n",
        "        metrics(y, model.predict(x))\n",
        "        joblib.dump(model, f'{name}_model.joblib')  # Sauvegarder le modèle avec le nom spécifié\n",
        "        print(f\"Model {name} saved as {name}_model.joblib\")\n",
        "        print(\"-\" * 30)\n"
      ]
    },
    {
      "cell_type": "code",
      "execution_count": 110,
      "metadata": {
        "colab": {
          "base_uri": "https://localhost:8080/"
        },
        "id": "guFk6wnkhalM",
        "outputId": "36667025-028b-45b8-9769-efbe49d257ab"
      },
      "outputs": [
        {
          "name": "stdout",
          "output_type": "stream",
          "text": [
            "Three_Models_I\n",
            " \n",
            "LogisticRegression :\n",
            "precision :  0.7186381729725383\n",
            "recall :  0.6630130929094439\n",
            "accuracy :  0.76125\n",
            "Model LogisticRegression saved as LogisticRegression_model.joblib\n",
            "------------------------------\n",
            "GaussianNBS :\n",
            "precision :  0.6998697916666667\n",
            "recall :  0.7208782067135824\n",
            "accuracy :  0.74125\n",
            "Model GaussianNBS saved as GaussianNBS_model.joblib\n",
            "------------------------------\n",
            "SVC :\n",
            "precision :  0.8232554200542005\n",
            "recall :  0.728852365642167\n",
            "accuracy :  0.82125\n",
            "Model SVC saved as SVC_model.joblib\n",
            "------------------------------\n"
          ]
        }
      ],
      "source": [
        "print('Three_Models_I')\n",
        "print(' ')\n",
        "train_and_evaluate(Three_Models_I,x_train, y_train)"
      ]
    }
  ],
  "metadata": {
    "accelerator": "GPU",
    "colab": {
      "collapsed_sections": [
        "ZAAK-boROHcR"
      ],
      "gpuType": "T4",
      "provenance": []
    },
    "kernelspec": {
      "display_name": "Python 3",
      "name": "python3"
    },
    "language_info": {
      "codemirror_mode": {
        "name": "ipython",
        "version": 3
      },
      "file_extension": ".py",
      "mimetype": "text/x-python",
      "name": "python",
      "nbconvert_exporter": "python",
      "pygments_lexer": "ipython3",
      "version": "3.11.4"
    }
  },
  "nbformat": 4,
  "nbformat_minor": 0
}
